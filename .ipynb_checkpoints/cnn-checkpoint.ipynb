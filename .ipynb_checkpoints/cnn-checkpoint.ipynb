{
 "cells": [
  {
   "cell_type": "code",
   "execution_count": 1,
   "id": "45dec3a8",
   "metadata": {},
   "outputs": [],
   "source": [
    "import numpy as np\n",
    "import pandas as pd\n",
    "import tensorflow as tf\n",
    "import matplotlib.pyplot as plt\n",
    "from sklearn.metrics import accuracy_score\n",
    "from tensorflow.keras.optimizers import Adam\n",
    "from sklearn.preprocessing import MinMaxScaler\n",
    "from tensorflow.keras import Model, Sequential\n",
    "from tensorflow.keras.layers import Dense, Dropout\n",
    "from sklearn.model_selection import train_test_split\n",
    "from tensorflow.keras.losses import MeanSquaredLogarithmicError"
   ]
  },
  {
   "cell_type": "code",
   "execution_count": null,
   "id": "20aed559",
   "metadata": {},
   "outputs": [],
   "source": [
    "from PIL import Image\n",
    "import os\n",
    "import numpy as np\n",
    "def load_and_convert_images_from_folder(folder_path, target_size=(128, 128), num_channels=3):\n",
    "    images = []\n",
    "    file_names = os.listdir(folder_path)\n",
    "    for file_name in file_names:\n",
    "        file_path = os.path.join(folder_path, file_name)\n",
    "        img = Image.open(file_path)\n",
    "        img = img.resize(target_size)\n",
    "        if num_channels == 1:\n",
    "            img = img.convert('L')  \n",
    "        elif num_channels == 3:\n",
    "            img = img.convert('RGB')  \n",
    "        img_array = np.array(img)\n",
    "        img_array = img_array / 255.0\n",
    "        images.append(img_array)\n",
    "    images = np.array(images)\n",
    "    return images\n",
    "\n",
    "folder_path = \"New folder\"\n",
    "target_size = (128, 128)\n",
    "num_channels = 3\n",
    "processed_images = load_and_convert_images_from_folder(folder_path, target_size, num_channels)\n",
    "print(\"Processed images shape:\", processed_images.shape)\n",
    "\n",
    "\n"
   ]
  },
  {
   "cell_type": "code",
   "execution_count": 49,
   "id": "8184d5cc",
   "metadata": {},
   "outputs": [
    {
     "name": "stdout",
     "output_type": "stream",
     "text": [
      "Processed images shape: (2636, 128, 128, 3)\n"
     ]
    }
   ],
   "source": [
    "\n",
    "folder_path2=\"test5\"\n",
    "processed_images_2= load_and_convert_images_from_folder(folder_path2, target_size, num_channels)\n",
    "print(\"Processed images shape:\", processed_images_2.shape)\n"
   ]
  },
  {
   "cell_type": "code",
   "execution_count": 30,
   "id": "893a03de",
   "metadata": {},
   "outputs": [
    {
     "data": {
      "text/plain": [
       "(2412, 128, 128, 3)"
      ]
     },
     "execution_count": 30,
     "metadata": {},
     "output_type": "execute_result"
    }
   ],
   "source": [
    "X_train, X_test= train_test_split(processed_images,test_size=0.4, random_state=1)\n",
    "X_train.shape"
   ]
  },
  {
   "cell_type": "code",
   "execution_count": 31,
   "id": "5af789e5",
   "metadata": {},
   "outputs": [
    {
     "name": "stdout",
     "output_type": "stream",
     "text": [
      "(644, 128, 128, 3)\n"
     ]
    }
   ],
   "source": [
    "X_val_test, X_test_p = train_test_split(X_test, test_size = 0.4, random_state=1)\n",
    "print(X_test_p.shape)\n"
   ]
  },
  {
   "cell_type": "code",
   "execution_count": 50,
   "id": "b0bb7161",
   "metadata": {},
   "outputs": [
    {
     "data": {
      "text/plain": [
       "(2636, 128, 128, 3)"
      ]
     },
     "execution_count": 50,
     "metadata": {},
     "output_type": "execute_result"
    }
   ],
   "source": [
    "X_test_n = processed_images_2\n",
    "X_test_n.shape\n"
   ]
  },
  {
   "cell_type": "code",
   "execution_count": 33,
   "id": "4457f0c2",
   "metadata": {
    "scrolled": false
   },
   "outputs": [
    {
     "name": "stdout",
     "output_type": "stream",
     "text": [
      "Epoch 1/30\n",
      "5/5 [==============================] - 210s 34s/step - loss: 0.0513 - mse: 0.1026 - val_loss: 0.0510 - val_mse: 0.1020\n",
      "Epoch 2/30\n",
      "5/5 [==============================] - 191s 38s/step - loss: 0.0496 - mse: 0.0993 - val_loss: 0.0513 - val_mse: 0.1025\n",
      "Epoch 3/30\n",
      "5/5 [==============================] - 189s 36s/step - loss: 0.0481 - mse: 0.0962 - val_loss: 0.0488 - val_mse: 0.0976\n",
      "Epoch 4/30\n",
      "5/5 [==============================] - 169s 33s/step - loss: 0.0447 - mse: 0.0894 - val_loss: 0.0450 - val_mse: 0.0899\n",
      "Epoch 5/30\n",
      "5/5 [==============================] - 166s 32s/step - loss: 0.0416 - mse: 0.0831 - val_loss: 0.0418 - val_mse: 0.0836\n",
      "Epoch 6/30\n",
      "5/5 [==============================] - 168s 33s/step - loss: 0.0398 - mse: 0.0796 - val_loss: 0.0392 - val_mse: 0.0784\n",
      "Epoch 7/30\n",
      "5/5 [==============================] - 164s 32s/step - loss: 0.0390 - mse: 0.0781 - val_loss: 0.0398 - val_mse: 0.0797\n",
      "Epoch 8/30\n",
      "5/5 [==============================] - 167s 33s/step - loss: 0.0382 - mse: 0.0764 - val_loss: 0.0423 - val_mse: 0.0847\n",
      "Epoch 9/30\n",
      "5/5 [==============================] - 160s 32s/step - loss: 0.0369 - mse: 0.0738 - val_loss: 0.0443 - val_mse: 0.0886\n",
      "Epoch 10/30\n",
      "5/5 [==============================] - 168s 33s/step - loss: 0.0352 - mse: 0.0704 - val_loss: 0.0455 - val_mse: 0.0910\n",
      "Epoch 11/30\n",
      "5/5 [==============================] - 164s 32s/step - loss: 0.0326 - mse: 0.0652 - val_loss: 0.0462 - val_mse: 0.0925\n",
      "Epoch 12/30\n",
      "5/5 [==============================] - 164s 32s/step - loss: 0.0296 - mse: 0.0591 - val_loss: 0.0476 - val_mse: 0.0953\n",
      "Epoch 13/30\n",
      "5/5 [==============================] - 165s 33s/step - loss: 0.0273 - mse: 0.0545 - val_loss: 0.0480 - val_mse: 0.0959\n",
      "Epoch 14/30\n",
      "5/5 [==============================] - 164s 33s/step - loss: 0.0262 - mse: 0.0524 - val_loss: 0.0550 - val_mse: 0.1099\n",
      "Epoch 15/30\n",
      "5/5 [==============================] - 165s 32s/step - loss: 0.0257 - mse: 0.0513 - val_loss: 0.0545 - val_mse: 0.1089\n",
      "Epoch 16/30\n",
      "5/5 [==============================] - 165s 32s/step - loss: 0.0253 - mse: 0.0507 - val_loss: 0.0575 - val_mse: 0.1151\n",
      "Epoch 17/30\n",
      "5/5 [==============================] - 164s 33s/step - loss: 0.0251 - mse: 0.0502 - val_loss: 0.0579 - val_mse: 0.1158\n",
      "Epoch 18/30\n",
      "5/5 [==============================] - 165s 32s/step - loss: 0.0249 - mse: 0.0497 - val_loss: 0.0595 - val_mse: 0.1190\n",
      "Epoch 19/30\n",
      "5/5 [==============================] - 162s 32s/step - loss: 0.0248 - mse: 0.0496 - val_loss: 0.0577 - val_mse: 0.1155\n",
      "Epoch 20/30\n",
      "5/5 [==============================] - 160s 32s/step - loss: 0.0246 - mse: 0.0492 - val_loss: 0.0577 - val_mse: 0.1153\n",
      "Epoch 21/30\n",
      "5/5 [==============================] - 165s 32s/step - loss: 0.0246 - mse: 0.0492 - val_loss: 0.0596 - val_mse: 0.1191\n",
      "Epoch 22/30\n",
      "5/5 [==============================] - 163s 32s/step - loss: 0.0245 - mse: 0.0490 - val_loss: 0.0570 - val_mse: 0.1140\n",
      "Epoch 23/30\n",
      "5/5 [==============================] - 160s 32s/step - loss: 0.0243 - mse: 0.0486 - val_loss: 0.0565 - val_mse: 0.1130\n",
      "Epoch 24/30\n",
      "5/5 [==============================] - 167s 33s/step - loss: 0.0242 - mse: 0.0485 - val_loss: 0.0556 - val_mse: 0.1111\n",
      "Epoch 25/30\n",
      "5/5 [==============================] - 167s 34s/step - loss: 0.0240 - mse: 0.0480 - val_loss: 0.0580 - val_mse: 0.1159\n",
      "Epoch 26/30\n",
      "5/5 [==============================] - 166s 33s/step - loss: 0.0240 - mse: 0.0480 - val_loss: 0.0580 - val_mse: 0.1160\n",
      "Epoch 27/30\n",
      "5/5 [==============================] - 162s 32s/step - loss: 0.0238 - mse: 0.0476 - val_loss: 0.0600 - val_mse: 0.1200\n",
      "Epoch 28/30\n",
      "5/5 [==============================] - 164s 33s/step - loss: 0.0237 - mse: 0.0474 - val_loss: 0.0605 - val_mse: 0.1210\n",
      "Epoch 29/30\n",
      "5/5 [==============================] - 163s 32s/step - loss: 0.0237 - mse: 0.0474 - val_loss: 0.0597 - val_mse: 0.1194\n",
      "Epoch 30/30\n",
      "5/5 [==============================] - 152s 30s/step - loss: 0.0236 - mse: 0.0472 - val_loss: 0.0585 - val_mse: 0.1171\n"
     ]
    }
   ],
   "source": [
    "import tensorflow as tf\n",
    "import numpy as np\n",
    "from tensorflow.keras.layers import Dense, Conv2D, Flatten, Reshape, Dropout, MaxPooling2D\n",
    "from tensorflow.keras import Sequential, Model\n",
    "class AutoEncoder(Model):\n",
    "    def __init__(self, output_units, code_size=8):\n",
    "        super(AutoEncoder, self).__init__()\n",
    "        self.output_units = output_units\n",
    "        self.code_size = code_size\n",
    "        self.encoder = Sequential([\n",
    "            Conv2D(16, (3, 3), activation='relu', padding='same', input_shape=(128, 128, 3)),\n",
    "            MaxPooling2D((2, 2)),\n",
    "            Dropout(0.3),\n",
    "            Conv2D(32, (3, 3), activation='relu', padding='same'),\n",
    "            MaxPooling2D((2, 2)),\n",
    "            Dropout(0.3),\n",
    "            Conv2D(64, (3, 3), activation='relu', padding='same'),\n",
    "            MaxPooling2D((2, 2)),\n",
    "            Dropout(0.3),\n",
    "            Flatten(),\n",
    "            Dense(code_size, activation='relu'),\n",
    "        ])\n",
    "        self.decoder = Sequential([\n",
    "            Dense(16 * 16 * 64, activation='relu'),\n",
    "            Reshape((16, 16, 64)),\n",
    "            tf.keras.layers.UpSampling2D((2, 2)),\n",
    "            Conv2D(64, (3, 3), activation='relu', padding='same'),\n",
    "            Dropout(0.3),\n",
    "            tf.keras.layers.UpSampling2D((2, 2)),\n",
    "            Conv2D(32, (3, 3), activation='relu', padding='same'),\n",
    "            Dropout(0.3),\n",
    "            tf.keras.layers.UpSampling2D((2, 2)),\n",
    "            Conv2D(16, (3, 3), activation='relu', padding='same'),\n",
    "            Dropout(0.3),\n",
    "            Conv2D(3, (3, 3), activation='sigmoid', padding='same')\n",
    "        ])\n",
    "    def call(self, inputs):\n",
    "        encoded = self.encoder(inputs)\n",
    "        decoded = self.decoder(encoded)\n",
    "        return decoded\n",
    "model = AutoEncoder(output_units=106 * 128 * 128 * 3)\n",
    "model.compile(loss='huber', metrics='mse', optimizer='adam')\n",
    "\n",
    "history = model.fit(\n",
    "    X_train,\n",
    "    X_train,\n",
    "    epochs=30,\n",
    "    batch_size=500,\n",
    "    validation_data=(X_val_test, X_val_test)\n",
    ")\n"
   ]
  },
  {
   "cell_type": "code",
   "execution_count": 34,
   "id": "e5a276d6",
   "metadata": {},
   "outputs": [
    {
     "name": "stdout",
     "output_type": "stream",
     "text": [
      "31/31 [==============================] - 7s 214ms/step\n",
      "0.11708096248345172\n",
      "0.06475424859348194\n"
     ]
    },
    {
     "data": {
      "text/plain": [
       "0.19478606079563004"
      ]
     },
     "execution_count": 34,
     "metadata": {},
     "output_type": "execute_result"
    }
   ],
   "source": [
    "def find_threshold(model, x_train):\n",
    "    reconstructions = model.predict(x_train)\n",
    "    reconstruction_errors = np.mean(np.square(reconstructions - x_train), axis=(1, 2, 3))\n",
    "    threshold = np.mean(reconstruction_errors) +1.2*np.std(reconstruction_errors)\n",
    "    print(np.mean(reconstruction_errors))\n",
    "    print( np.std(reconstruction_errors))\n",
    "    return threshold\n",
    "threshold =find_threshold(model,X_val_test)\n",
    "threshold"
   ]
  },
  {
   "cell_type": "code",
   "execution_count": 51,
   "id": "0f21b429",
   "metadata": {},
   "outputs": [
    {
     "name": "stdout",
     "output_type": "stream",
     "text": [
      "83/83 [==============================] - 18s 221ms/step\n",
      "Anomaly Predictions:\n",
      "{0.0: 219, 1.0: 2417}\n",
      "91.69195751138088\n"
     ]
    },
    {
     "data": {
      "text/plain": [
       "(2636,)"
      ]
     },
     "execution_count": 51,
     "metadata": {},
     "output_type": "execute_result"
    }
   ],
   "source": [
    "reconstructions = model.predict(X_test_n)\n",
    "reconstruction_errors = np.mean(np.square(reconstructions - X_test_n), axis=(1, 2, 3))\n",
    "anomaly_mask = reconstruction_errors > threshold\n",
    "anomaly_predictions = np.asarray(anomaly_mask).astype(float)\n",
    "print(\"Anomaly Predictions:\")\n",
    "unique, counts = np.unique(anomaly_predictions, return_counts=True)\n",
    "counts_dict = dict(zip(unique, counts))\n",
    "print(counts_dict)\n",
    "y_test_p=(np.ones(counts[1]))\n",
    "y_test_n=(np.zeros(counts[0]))\n",
    "pred_y_test=np.concatenate((y_test_p,y_test_n), axis=0)\n",
    "print(counts[1]*100/sum(counts))\n",
    "pred_y_test.shape"
   ]
  },
  {
   "cell_type": "code",
   "execution_count": 52,
   "id": "98a58ead",
   "metadata": {},
   "outputs": [
    {
     "name": "stdout",
     "output_type": "stream",
     "text": [
      "76/76 [==============================] - 17s 222ms/step\n",
      "Anomaly Predictions:\n",
      "{0.0: 2090, 1.0: 322}\n",
      "86.65008291873964\n"
     ]
    }
   ],
   "source": [
    "reconstructions = model.predict(X_train)\n",
    "\n",
    "# Calculate reconstruction errors\n",
    "reconstruction_errors = np.mean(np.square(reconstructions - X_train), axis=(1, 2, 3))\n",
    "\n",
    "# Set a threshold for anomaly detection (you can adjust this threshold based on your application)\n",
    "\n",
    "\n",
    "# Predict anomalies based on the threshold\n",
    "anomaly_mask = reconstruction_errors > threshold\n",
    "anomaly_predictions = np.asarray(anomaly_mask).astype(float)\n",
    "\n",
    "# Display the results\n",
    "print(\"Anomaly Predictions:\")\n",
    "unique, counts = np.unique(anomaly_predictions, return_counts=True)\n",
    "counts_dict = dict(zip(unique, counts))\n",
    "print(counts_dict)\n",
    "print(counts[0]*100/sum(counts))\n",
    "y_train_p=(np.ones(counts[1]))\n",
    "y_train_n=(np.zeros(counts[0]))\n",
    "pred_y_train=np.concatenate((y_train_p,y_train_n), axis=0)\n",
    "\n"
   ]
  },
  {
   "cell_type": "code",
   "execution_count": 53,
   "id": "a887525d",
   "metadata": {},
   "outputs": [
    {
     "name": "stdout",
     "output_type": "stream",
     "text": [
      "31/31 [==============================] - 7s 221ms/step\n",
      "Anomaly Predictions:\n",
      "{0.0: 828, 1.0: 136}\n",
      "85.89211618257261\n"
     ]
    }
   ],
   "source": [
    "reconstructions = model.predict(X_val_test)\n",
    "\n",
    "# Calculate reconstruction errors\n",
    "reconstruction_errors = np.mean(np.square(reconstructions - X_val_test), axis=(1, 2, 3))\n",
    "\n",
    "# Set a threshold for anomaly detection (you can adjust this threshold based on your application)\n",
    "\n",
    "\n",
    "# Predict anomalies based on the threshold\n",
    "anomaly_mask = reconstruction_errors > threshold\n",
    "anomaly_predictions = np.asarray(anomaly_mask).astype(float)\n",
    "\n",
    "# Display the results\n",
    "print(\"Anomaly Predictions:\")\n",
    "unique, counts = np.unique(anomaly_predictions, return_counts=True)\n",
    "counts_dict = dict(zip(unique, counts))\n",
    "print(counts_dict)\n",
    "print(counts[0]*100/sum(counts))\n",
    "\n",
    "y_val_test_p=(np.ones(counts[1]))\n",
    "y_val_test_n=(np.zeros(counts[0]))\n",
    "pred_y_val_test=np.concatenate((y_val_test_p,y_val_test_n), axis=0)\n"
   ]
  },
  {
   "cell_type": "code",
   "execution_count": 54,
   "id": "1465ea27",
   "metadata": {},
   "outputs": [
    {
     "name": "stdout",
     "output_type": "stream",
     "text": [
      "21/21 [==============================] - 5s 214ms/step\n",
      "Anomaly Predictions:\n",
      "{0.0: 550, 1.0: 94}\n",
      "85.40372670807453\n"
     ]
    }
   ],
   "source": [
    "reconstructions = model.predict(X_test_p)\n",
    "\n",
    "# Calculate reconstruction errors\n",
    "reconstruction_errors = np.mean(np.square(reconstructions - X_test_p), axis=(1, 2, 3))\n",
    "\n",
    "# Set a threshold for anomaly detection (you can adjust this threshold based on your application)\n",
    "\n",
    "\n",
    "# Predict anomalies based on the threshold\n",
    "anomaly_mask = reconstruction_errors > threshold\n",
    "anomaly_predictions = np.asarray(anomaly_mask).astype(float)\n",
    "\n",
    "# Display the results\n",
    "print(\"Anomaly Predictions:\")\n",
    "unique, counts = np.unique(anomaly_predictions, return_counts=True)\n",
    "counts_dict = dict(zip(unique, counts))\n",
    "print(counts_dict)\n",
    "y_test1_p=(np.ones(counts[1]))\n",
    "y_test1_n=(np.zeros(counts[0]))\n",
    "pred_y_test1=np.concatenate((y_test1_p,y_test1_n), axis=0)\n",
    "\n",
    "print(counts[0]*100/sum(counts))"
   ]
  },
  {
   "cell_type": "code",
   "execution_count": 55,
   "id": "83ac1ed9",
   "metadata": {},
   "outputs": [],
   "source": [
    "pos=np.zeros(4020)\n",
    "neg=np.ones(2636)\n",
    "actual_y= np.concatenate((pos,neg), axis=0)\n",
    "pred_y=np.concatenate((pred_y_train, pred_y_val_test,pred_y_test1, pred_y_test), axis=0)"
   ]
  },
  {
   "cell_type": "code",
   "execution_count": 56,
   "id": "f1878d5f",
   "metadata": {},
   "outputs": [
    {
     "name": "stdout",
     "output_type": "stream",
     "text": [
      "Precision: 0.8140788144156281\n",
      "Recall: 0.9169195751138088\n",
      "F1 Score: 0.8624442462087423\n"
     ]
    }
   ],
   "source": [
    "from sklearn.metrics import precision_score, recall_score, f1_score\n",
    "\n",
    "precision = precision_score(actual_y, pred_y)\n",
    "recall = recall_score(actual_y, pred_y)\n",
    "f1 = f1_score(actual_y, pred_y)\n",
    "\n",
    "print(\"Precision:\", precision)\n",
    "print(\"Recall:\", recall)\n",
    "print(\"F1 Score:\", f1)"
   ]
  },
  {
   "cell_type": "code",
   "execution_count": 57,
   "id": "58f98ec5",
   "metadata": {},
   "outputs": [],
   "source": [
    "def pred(sample,threshold):\n",
    "    reconstruction = model.predict(np.expand_dims(sample, axis=0))\n",
    "    reconstruction_error = np.mean(np.square(reconstruction - sample))\n",
    "    is_anomaly = reconstruction_error > threshold\n",
    "    if is_anomaly:\n",
    "        return True\n",
    "    else:\n",
    "        return False"
   ]
  },
  {
   "cell_type": "code",
   "execution_count": null,
   "id": "525e63bf",
   "metadata": {},
   "outputs": [],
   "source": []
  },
  {
   "cell_type": "markdown",
   "id": "3c39c26f",
   "metadata": {},
   "source": [
    "# "
   ]
  },
  {
   "cell_type": "code",
   "execution_count": 58,
   "id": "bbe121c9",
   "metadata": {},
   "outputs": [
    {
     "name": "stdout",
     "output_type": "stream",
     "text": [
      "83/83 [==============================] - 18s 218ms/step\n"
     ]
    },
    {
     "data": {
      "image/png": "[encoded data removed]",
      "text/plain": [
       "<Figure size 640x480 with 1 Axes>"
      ]
     },
     "metadata": {},
     "output_type": "display_data"
    }
   ],
   "source": [
    "import matplotlib.pyplot as plt\n",
    "reconstructions = model.predict( X_test_n)\n",
    "reconstruction_errors = np.mean(np.square(reconstructions - X_test_n), axis=(1, 2, 3))\n",
    "\n",
    "plt.plot(reconstruction_errors, label='Reconstruction Errors')\n",
    "plt.axhline(y=threshold, color='r', linestyle='--', label='Threshold')\n",
    "plt.xlabel('Example Index')\n",
    "plt.ylabel('Reconstruction Error')\n",
    "plt.legend()\n",
    "plt.title('Reconstruction Error Plot')\n",
    "plt.show()\n"
   ]
  },
  {
   "cell_type": "code",
   "execution_count": 59,
   "id": "c874fa61",
   "metadata": {},
   "outputs": [
    {
     "data": {
      "image/png": "[encoded data removed]",
      "text/plain": [
       "<Figure size 640x480 with 1 Axes>"
      ]
     },
     "metadata": {},
     "output_type": "display_data"
    }
   ],
   "source": [
    "import matplotlib.pyplot as plt\n",
    "\n",
    "# Plot training loss\n",
    "plt.plot(history.history['loss'], label='Training Loss')\n",
    "# Plot validation loss if applicable\n",
    "if 'val_loss' in history.history:\n",
    "    plt.plot(history.history['val_loss'], label='Validation Loss')\n",
    "\n",
    "plt.xlabel('Epoch')\n",
    "plt.ylabel('Loss')\n",
    "plt.legend()\n",
    "plt.title('Training and Validation Loss Over Epochs')\n",
    "plt.show()\n"
   ]
  },
  {
   "cell_type": "code",
   "execution_count": null,
   "id": "83d0aa0c",
   "metadata": {},
   "outputs": [],
   "source": []
  },
  {
   "cell_type": "code",
   "execution_count": null,
   "id": "ff2eac48",
   "metadata": {},
   "outputs": [],
   "source": []
  },
  {
   "cell_type": "code",
   "execution_count": null,
   "id": "dbd3cd9f",
   "metadata": {},
   "outputs": [],
   "source": []
  },
  {
   "cell_type": "code",
   "execution_count": null,
   "id": "f1e052be",
   "metadata": {},
   "outputs": [],
   "source": []
  },
  {
   "cell_type": "code",
   "execution_count": null,
   "id": "2b9762ed",
   "metadata": {},
   "outputs": [],
   "source": []
  },
  {
   "cell_type": "code",
   "execution_count": null,
   "id": "f56dfae2",
   "metadata": {},
   "outputs": [],
   "source": []
  },
  {
   "cell_type": "code",
   "execution_count": null,
   "id": "93155086",
   "metadata": {},
   "outputs": [],
   "source": []
  },
  {
   "cell_type": "code",
   "execution_count": null,
   "id": "7ce8c35d",
   "metadata": {},
   "outputs": [],
   "source": []
  },
  {
   "cell_type": "code",
   "execution_count": null,
   "id": "743a7789",
   "metadata": {},
   "outputs": [],
   "source": []
  },
  {
   "cell_type": "code",
   "execution_count": null,
   "id": "2730be92",
   "metadata": {},
   "outputs": [],
   "source": []
  },
  {
   "cell_type": "code",
   "execution_count": null,
   "id": "14386b4e",
   "metadata": {},
   "outputs": [],
   "source": []
  },
  {
   "cell_type": "code",
   "execution_count": null,
   "id": "539ad84e",
   "metadata": {},
   "outputs": [],
   "source": []
  },
  {
   "cell_type": "code",
   "execution_count": null,
   "id": "71b10c89",
   "metadata": {},
   "outputs": [],
   "source": []
  },
  {
   "cell_type": "code",
   "execution_count": null,
   "id": "6b184949",
   "metadata": {},
   "outputs": [],
   "source": []
  },
  {
   "cell_type": "code",
   "execution_count": null,
   "id": "b84c34f8",
   "metadata": {},
   "outputs": [],
   "source": []
  },
  {
   "cell_type": "code",
   "execution_count": null,
   "id": "ef226db4",
   "metadata": {},
   "outputs": [],
   "source": []
  },
  {
   "cell_type": "code",
   "execution_count": null,
   "id": "0820da6b",
   "metadata": {},
   "outputs": [],
   "source": []
  },
  {
   "cell_type": "code",
   "execution_count": null,
   "id": "015a8d95",
   "metadata": {},
   "outputs": [],
   "source": []
  },
  {
   "cell_type": "code",
   "execution_count": null,
   "id": "07417e34",
   "metadata": {},
   "outputs": [],
   "source": []
  },
  {
   "cell_type": "code",
   "execution_count": null,
   "id": "0486e740",
   "metadata": {},
   "outputs": [],
   "source": []
  },
  {
   "cell_type": "code",
   "execution_count": null,
   "id": "578ef8b2",
   "metadata": {},
   "outputs": [],
   "source": []
  },
  {
   "cell_type": "code",
   "execution_count": null,
   "id": "d2dc3b81",
   "metadata": {},
   "outputs": [],
   "source": []
  },
  {
   "cell_type": "code",
   "execution_count": null,
   "id": "2900eab1",
   "metadata": {},
   "outputs": [],
   "source": []
  },
  {
   "cell_type": "code",
   "execution_count": null,
   "id": "53cbf514",
   "metadata": {},
   "outputs": [],
   "source": []
  },
  {
   "cell_type": "code",
   "execution_count": null,
   "id": "b4a938ef",
   "metadata": {},
   "outputs": [],
   "source": []
  },
  {
   "cell_type": "code",
   "execution_count": null,
   "id": "c8680176",
   "metadata": {},
   "outputs": [],
   "source": []
  },
  {
   "cell_type": "code",
   "execution_count": null,
   "id": "ea993e3a",
   "metadata": {},
   "outputs": [],
   "source": []
  },
  {
   "cell_type": "code",
   "execution_count": null,
   "id": "adf9a0eb",
   "metadata": {},
   "outputs": [],
   "source": []
  },
  {
   "cell_type": "code",
   "execution_count": null,
   "id": "0eba054e",
   "metadata": {},
   "outputs": [],
   "source": []
  },
  {
   "cell_type": "code",
   "execution_count": null,
   "id": "255e1edf",
   "metadata": {},
   "outputs": [],
   "source": []
  },
  {
   "cell_type": "code",
   "execution_count": null,
   "id": "97c4e937",
   "metadata": {},
   "outputs": [],
   "source": []
  },
  {
   "cell_type": "code",
   "execution_count": null,
   "id": "737fe8fb",
   "metadata": {},
   "outputs": [],
   "source": []
  },
  {
   "cell_type": "code",
   "execution_count": null,
   "id": "6a855e3b",
   "metadata": {},
   "outputs": [],
   "source": []
  },
  {
   "cell_type": "code",
   "execution_count": null,
   "id": "38567ada",
   "metadata": {},
   "outputs": [],
   "source": []
  },
  {
   "cell_type": "code",
   "execution_count": null,
   "id": "3931287e",
   "metadata": {},
   "outputs": [],
   "source": []
  },
  {
   "cell_type": "code",
   "execution_count": null,
   "id": "e9bc8755",
   "metadata": {},
   "outputs": [],
   "source": []
  },
  {
   "cell_type": "code",
   "execution_count": null,
   "id": "738bf315",
   "metadata": {},
   "outputs": [],
   "source": []
  },
  {
   "cell_type": "code",
   "execution_count": null,
   "id": "2fd241f1",
   "metadata": {},
   "outputs": [],
   "source": []
  },
  {
   "cell_type": "code",
   "execution_count": null,
   "id": "63228d42",
   "metadata": {},
   "outputs": [],
   "source": []
  },
  {
   "cell_type": "code",
   "execution_count": null,
   "id": "2a99c4cb",
   "metadata": {},
   "outputs": [],
   "source": []
  },
  {
   "cell_type": "code",
   "execution_count": null,
   "id": "9cab7204",
   "metadata": {},
   "outputs": [],
   "source": []
  },
  {
   "cell_type": "code",
   "execution_count": null,
   "id": "0c4d6d86",
   "metadata": {},
   "outputs": [],
   "source": []
  },
  {
   "cell_type": "code",
   "execution_count": null,
   "id": "1f881e29",
   "metadata": {},
   "outputs": [],
   "source": []
  },
  {
   "cell_type": "code",
   "execution_count": null,
   "id": "c294791e",
   "metadata": {},
   "outputs": [],
   "source": []
  },
  {
   "cell_type": "code",
   "execution_count": null,
   "id": "89149cd5",
   "metadata": {},
   "outputs": [],
   "source": []
  },
  {
   "cell_type": "code",
   "execution_count": null,
   "id": "19efcf85",
   "metadata": {},
   "outputs": [],
   "source": []
  },
  {
   "cell_type": "code",
   "execution_count": null,
   "id": "5854177e",
   "metadata": {},
   "outputs": [],
   "source": []
  },
  {
   "cell_type": "code",
   "execution_count": null,
   "id": "1d85e1b2",
   "metadata": {},
   "outputs": [],
   "source": []
  }
 ],
 "metadata": {
  "kernelspec": {
   "display_name": "Python 3 (ipykernel)",
   "language": "python",
   "name": "python3"
  },
  "language_info": {
   "codemirror_mode": {
    "name": "ipython",
    "version": 3
   },
   "file_extension": ".py",
   "mimetype": "text/x-python",
   "name": "python",
   "nbconvert_exporter": "python",
   "pygments_lexer": "ipython3",
   "version": "3.11.4"
  }
 },
 "nbformat": 4,
 "nbformat_minor": 5
}
