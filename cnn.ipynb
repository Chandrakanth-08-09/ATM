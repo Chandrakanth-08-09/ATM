{
 "cells": [
  {
   "cell_type": "code",
   "execution_count": 1,
   "id": "45dec3a8",
   "metadata": {},
   "outputs": [],
   "source": [
    "import numpy as np\n",
    "import pandas as pd\n",
    "import tensorflow as tf\n",
    "import matplotlib.pyplot as plt\n",
    "from sklearn.metrics import accuracy_score\n",
    "from tensorflow.keras.optimizers import Adam\n",
    "from sklearn.preprocessing import MinMaxScaler\n",
    "from tensorflow.keras import Model, Sequential\n",
    "from tensorflow.keras.layers import Dense, Dropout\n",
    "from sklearn.model_selection import train_test_split\n",
    "from tensorflow.keras.losses import MeanSquaredLogarithmicError"
   ]
  },
  {
   "cell_type": "code",
   "execution_count": 2,
   "id": "20aed559",
   "metadata": {},
   "outputs": [
    {
     "name": "stdout",
     "output_type": "stream",
     "text": [
      "Processed images shape: (499, 128, 128, 3)\n"
     ]
    }
   ],
   "source": [
    "from PIL import Image\n",
    "import os\n",
    "import numpy as np\n",
    "def load_and_convert_images_from_folder(folder_path, target_size=(128, 128), num_channels=3):\n",
    "    images = []\n",
    "    file_names = os.listdir(folder_path)\n",
    "    for file_name in file_names:\n",
    "        file_path = os.path.join(folder_path, file_name)\n",
    "        img = Image.open(file_path)\n",
    "        img = img.resize(target_size)\n",
    "        if num_channels == 1:\n",
    "            img = img.convert('L')  \n",
    "        elif num_channels == 3:\n",
    "            img = img.convert('RGB')  \n",
    "        img_array = np.array(img)\n",
    "        img_array = img_array / 255.0\n",
    "        images.append(img_array)\n",
    "    images = np.array(images)\n",
    "    return images\n",
    "\n",
    "folder_path = \"New folder\"\n",
    "target_size = (128, 128)\n",
    "num_channels = 3\n",
    "processed_images = load_and_convert_images_from_folder(folder_path, target_size, num_channels)\n",
    "print(\"Processed images shape:\", processed_images.shape)\n",
    "\n",
    "\n"
   ]
  },
  {
   "cell_type": "code",
   "execution_count": 3,
   "id": "8184d5cc",
   "metadata": {},
   "outputs": [
    {
     "name": "stdout",
     "output_type": "stream",
     "text": [
      "Processed images shape: (71, 128, 128, 3)\n"
     ]
    }
   ],
   "source": [
    "\n",
    "folder_path2=\"test\"\n",
    "processed_images_2= load_and_convert_images_from_folder(folder_path2, target_size, num_channels)\n",
    "print(\"Processed images shape:\", processed_images_2.shape)\n"
   ]
  },
  {
   "cell_type": "code",
   "execution_count": 4,
   "id": "893a03de",
   "metadata": {},
   "outputs": [
    {
     "data": {
      "text/plain": [
       "(299, 128, 128, 3)"
      ]
     },
     "execution_count": 4,
     "metadata": {},
     "output_type": "execute_result"
    }
   ],
   "source": [
    "X_train, X_test= train_test_split(processed_images,test_size=0.4, random_state=1)\n",
    "X_train.shape"
   ]
  },
  {
   "cell_type": "code",
   "execution_count": 5,
   "id": "5af789e5",
   "metadata": {},
   "outputs": [
    {
     "name": "stdout",
     "output_type": "stream",
     "text": [
      "(80, 128, 128, 3)\n"
     ]
    }
   ],
   "source": [
    "X_val_test, X_test_p = train_test_split(X_test, test_size = 0.4, random_state=1)\n",
    "print(X_test_p.shape)\n"
   ]
  },
  {
   "cell_type": "code",
   "execution_count": 6,
   "id": "b0bb7161",
   "metadata": {},
   "outputs": [
    {
     "data": {
      "text/plain": [
       "(71, 128, 128, 3)"
      ]
     },
     "execution_count": 6,
     "metadata": {},
     "output_type": "execute_result"
    }
   ],
   "source": [
    "X_test_n = processed_images_2\n",
    "X_test_n.shape\n"
   ]
  },
  {
   "cell_type": "code",
   "execution_count": 8,
   "id": "4457f0c2",
   "metadata": {
    "scrolled": false
   },
   "outputs": [
    {
     "name": "stdout",
     "output_type": "stream",
     "text": [
      "Epoch 1/30\n",
      "10/10 [==============================] - 16s 1s/step - loss: 0.0437 - mse: 0.0874 - val_loss: 0.0472 - val_mse: 0.0944\n",
      "Epoch 2/30\n",
      "10/10 [==============================] - 14s 1s/step - loss: 0.0420 - mse: 0.0841 - val_loss: 0.0473 - val_mse: 0.0947\n",
      "Epoch 3/30\n",
      "10/10 [==============================] - 14s 1s/step - loss: 0.0413 - mse: 0.0826 - val_loss: 0.0466 - val_mse: 0.0933\n",
      "Epoch 4/30\n",
      "10/10 [==============================] - 14s 1s/step - loss: 0.0386 - mse: 0.0772 - val_loss: 0.0444 - val_mse: 0.0887\n",
      "Epoch 5/30\n",
      "10/10 [==============================] - 14s 1s/step - loss: 0.0369 - mse: 0.0737 - val_loss: 0.0459 - val_mse: 0.0918\n",
      "Epoch 6/30\n",
      "10/10 [==============================] - 14s 1s/step - loss: 0.0347 - mse: 0.0693 - val_loss: 0.0455 - val_mse: 0.0911\n",
      "Epoch 7/30\n",
      "10/10 [==============================] - 14s 1s/step - loss: 0.0333 - mse: 0.0666 - val_loss: 0.0477 - val_mse: 0.0954\n",
      "Epoch 8/30\n",
      "10/10 [==============================] - 14s 1s/step - loss: 0.0325 - mse: 0.0650 - val_loss: 0.0472 - val_mse: 0.0944\n",
      "Epoch 9/30\n",
      "10/10 [==============================] - 14s 1s/step - loss: 0.0318 - mse: 0.0636 - val_loss: 0.0478 - val_mse: 0.0957\n",
      "Epoch 10/30\n",
      "10/10 [==============================] - 14s 1s/step - loss: 0.0313 - mse: 0.0625 - val_loss: 0.0477 - val_mse: 0.0953\n",
      "Epoch 11/30\n",
      "10/10 [==============================] - 14s 1s/step - loss: 0.0309 - mse: 0.0617 - val_loss: 0.0479 - val_mse: 0.0958\n",
      "Epoch 12/30\n",
      "10/10 [==============================] - 14s 1s/step - loss: 0.0302 - mse: 0.0605 - val_loss: 0.0481 - val_mse: 0.0962\n",
      "Epoch 13/30\n",
      "10/10 [==============================] - 14s 1s/step - loss: 0.0299 - mse: 0.0598 - val_loss: 0.0482 - val_mse: 0.0963\n",
      "Epoch 14/30\n",
      "10/10 [==============================] - 14s 1s/step - loss: 0.0296 - mse: 0.0591 - val_loss: 0.0474 - val_mse: 0.0947\n",
      "Epoch 15/30\n",
      "10/10 [==============================] - 14s 1s/step - loss: 0.0295 - mse: 0.0589 - val_loss: 0.0483 - val_mse: 0.0967\n",
      "Epoch 16/30\n",
      "10/10 [==============================] - 14s 1s/step - loss: 0.0287 - mse: 0.0574 - val_loss: 0.0487 - val_mse: 0.0975\n",
      "Epoch 17/30\n",
      "10/10 [==============================] - 15s 1s/step - loss: 0.0280 - mse: 0.0561 - val_loss: 0.0497 - val_mse: 0.0993\n",
      "Epoch 18/30\n",
      "10/10 [==============================] - 15s 1s/step - loss: 0.0263 - mse: 0.0525 - val_loss: 0.0555 - val_mse: 0.1110\n",
      "Epoch 19/30\n",
      "10/10 [==============================] - 15s 1s/step - loss: 0.0240 - mse: 0.0479 - val_loss: 0.0612 - val_mse: 0.1225\n",
      "Epoch 20/30\n",
      "10/10 [==============================] - 14s 1s/step - loss: 0.0230 - mse: 0.0461 - val_loss: 0.0590 - val_mse: 0.1179\n",
      "Epoch 21/30\n",
      "10/10 [==============================] - 14s 1s/step - loss: 0.0224 - mse: 0.0449 - val_loss: 0.0583 - val_mse: 0.1166\n",
      "Epoch 22/30\n",
      "10/10 [==============================] - 14s 1s/step - loss: 0.0218 - mse: 0.0437 - val_loss: 0.0616 - val_mse: 0.1231\n",
      "Epoch 23/30\n",
      "10/10 [==============================] - 14s 1s/step - loss: 0.0216 - mse: 0.0433 - val_loss: 0.0577 - val_mse: 0.1153\n",
      "Epoch 24/30\n",
      "10/10 [==============================] - 14s 1s/step - loss: 0.0211 - mse: 0.0423 - val_loss: 0.0592 - val_mse: 0.1183\n",
      "Epoch 25/30\n",
      "10/10 [==============================] - 14s 1s/step - loss: 0.0208 - mse: 0.0416 - val_loss: 0.0591 - val_mse: 0.1182\n",
      "Epoch 26/30\n",
      "10/10 [==============================] - 14s 1s/step - loss: 0.0204 - mse: 0.0409 - val_loss: 0.0608 - val_mse: 0.1217\n",
      "Epoch 27/30\n",
      "10/10 [==============================] - 14s 1s/step - loss: 0.0201 - mse: 0.0402 - val_loss: 0.0567 - val_mse: 0.1134\n",
      "Epoch 28/30\n",
      "10/10 [==============================] - 14s 1s/step - loss: 0.0200 - mse: 0.0399 - val_loss: 0.0583 - val_mse: 0.1167\n",
      "Epoch 29/30\n",
      "10/10 [==============================] - 14s 1s/step - loss: 0.0196 - mse: 0.0393 - val_loss: 0.0601 - val_mse: 0.1201\n",
      "Epoch 30/30\n",
      "10/10 [==============================] - 14s 1s/step - loss: 0.0194 - mse: 0.0389 - val_loss: 0.0599 - val_mse: 0.1198\n"
     ]
    }
   ],
   "source": [
    "import tensorflow as tf\n",
    "import numpy as np\n",
    "from tensorflow.keras.layers import Dense, Conv2D, Flatten, Reshape, Dropout, MaxPooling2D\n",
    "from tensorflow.keras import Sequential, Model\n",
    "class AutoEncoder(Model):\n",
    "    def __init__(self, output_units, code_size=8):\n",
    "        super(AutoEncoder, self).__init__()\n",
    "        self.output_units = output_units\n",
    "        self.code_size = code_size\n",
    "        self.encoder = Sequential([\n",
    "            Conv2D(16, (3, 3), activation='relu', padding='same', input_shape=(128, 128, 3)),\n",
    "            MaxPooling2D((2, 2)),\n",
    "            Dropout(0.3),\n",
    "            Conv2D(32, (3, 3), activation='relu', padding='same'),\n",
    "            MaxPooling2D((2, 2)),\n",
    "            Dropout(0.3),\n",
    "            Conv2D(64, (3, 3), activation='relu', padding='same'),\n",
    "            MaxPooling2D((2, 2)),\n",
    "            Dropout(0.3),\n",
    "            Flatten(),\n",
    "            Dense(code_size, activation='relu'),\n",
    "        ])\n",
    "        self.decoder = Sequential([\n",
    "            Dense(16 * 16 * 64, activation='relu'),\n",
    "            Reshape((16, 16, 64)),\n",
    "            tf.keras.layers.UpSampling2D((2, 2)),\n",
    "            Conv2D(64, (3, 3), activation='relu', padding='same'),\n",
    "            Dropout(0.3),\n",
    "            tf.keras.layers.UpSampling2D((2, 2)),\n",
    "            Conv2D(32, (3, 3), activation='relu', padding='same'),\n",
    "            Dropout(0.3),\n",
    "            tf.keras.layers.UpSampling2D((2, 2)),\n",
    "            Conv2D(16, (3, 3), activation='relu', padding='same'),\n",
    "            Dropout(0.3),\n",
    "            Conv2D(3, (3, 3), activation='sigmoid', padding='same')\n",
    "        ])\n",
    "    def call(self, inputs):\n",
    "        encoded = self.encoder(inputs)\n",
    "        decoded = self.decoder(encoded)\n",
    "        return decoded\n",
    "model = AutoEncoder(output_units=106 * 128 * 128 * 3)\n",
    "model.compile(loss='huber', metrics='mse', optimizer='adam')\n",
    "\n",
    "history = model.fit(\n",
    "    X_train,\n",
    "    X_train,\n",
    "    epochs=30,  \n",
    "    validation_data=(X_val_test, X_val_test)\n",
    ")\n"
   ]
  },
  {
   "cell_type": "code",
   "execution_count": 9,
   "id": "e5a276d6",
   "metadata": {},
   "outputs": [
    {
     "name": "stdout",
     "output_type": "stream",
     "text": [
      "4/4 [==============================] - 1s 128ms/step\n",
      "0.11983963275070947\n",
      "0.05097963864536344\n"
     ]
    },
    {
     "data": {
      "text/plain": [
       "0.18101519912514558"
      ]
     },
     "execution_count": 9,
     "metadata": {},
     "output_type": "execute_result"
    }
   ],
   "source": [
    "def find_threshold(model, x_train):\n",
    "    reconstructions = model.predict(x_train)\n",
    "    reconstruction_errors = np.mean(np.square(reconstructions - x_train), axis=(1, 2, 3))\n",
    "    threshold = np.mean(reconstruction_errors) +1.2*np.std(reconstruction_errors)\n",
    "    print(np.mean(reconstruction_errors))\n",
    "    print( np.std(reconstruction_errors))\n",
    "    return threshold\n",
    "threshold =find_threshold(model,X_val_test)\n",
    "threshold"
   ]
  },
  {
   "cell_type": "code",
   "execution_count": 10,
   "id": "0f21b429",
   "metadata": {},
   "outputs": [
    {
     "name": "stdout",
     "output_type": "stream",
     "text": [
      "3/3 [==============================] - 0s 92ms/step\n",
      "Anomaly Predictions:\n",
      "{0.0: 4, 1.0: 67}\n",
      "94.36619718309859\n"
     ]
    },
    {
     "data": {
      "text/plain": [
       "(71,)"
      ]
     },
     "execution_count": 10,
     "metadata": {},
     "output_type": "execute_result"
    }
   ],
   "source": [
    "reconstructions = model.predict(X_test_n)\n",
    "reconstruction_errors = np.mean(np.square(reconstructions - X_test_n), axis=(1, 2, 3))\n",
    "anomaly_mask = reconstruction_errors > threshold\n",
    "anomaly_predictions = np.asarray(anomaly_mask).astype(float)\n",
    "print(\"Anomaly Predictions:\")\n",
    "unique, counts = np.unique(anomaly_predictions, return_counts=True)\n",
    "counts_dict = dict(zip(unique, counts))\n",
    "print(counts_dict)\n",
    "y_test_p=(np.ones(counts[1]))\n",
    "y_test_n=(np.zeros(counts[0]))\n",
    "pred_y_test=np.concatenate((y_test_p,y_test_n), axis=0)\n",
    "print(counts[1]*100/sum(counts))\n",
    "pred_y_test.shape"
   ]
  },
  {
   "cell_type": "code",
   "execution_count": 11,
   "id": "98a58ead",
   "metadata": {},
   "outputs": [
    {
     "name": "stdout",
     "output_type": "stream",
     "text": [
      "10/10 [==============================] - 1s 128ms/step\n",
      "Anomaly Predictions:\n",
      "{0.0: 266, 1.0: 33}\n",
      "88.96321070234114\n"
     ]
    }
   ],
   "source": [
    "reconstructions = model.predict(X_train)\n",
    "\n",
    "# Calculate reconstruction errors\n",
    "reconstruction_errors = np.mean(np.square(reconstructions - X_train), axis=(1, 2, 3))\n",
    "\n",
    "# Set a threshold for anomaly detection (you can adjust this threshold based on your application)\n",
    "\n",
    "\n",
    "# Predict anomalies based on the threshold\n",
    "anomaly_mask = reconstruction_errors > threshold\n",
    "anomaly_predictions = np.asarray(anomaly_mask).astype(float)\n",
    "\n",
    "# Display the results\n",
    "print(\"Anomaly Predictions:\")\n",
    "unique, counts = np.unique(anomaly_predictions, return_counts=True)\n",
    "counts_dict = dict(zip(unique, counts))\n",
    "print(counts_dict)\n",
    "print(counts[0]*100/sum(counts))\n",
    "y_train_p=(np.ones(counts[1]))\n",
    "y_train_n=(np.zeros(counts[0]))\n",
    "pred_y_train=np.concatenate((y_train_p,y_train_n), axis=0)\n",
    "\n"
   ]
  },
  {
   "cell_type": "code",
   "execution_count": 12,
   "id": "a887525d",
   "metadata": {},
   "outputs": [
    {
     "name": "stdout",
     "output_type": "stream",
     "text": [
      "4/4 [==============================] - 1s 123ms/step\n",
      "Anomaly Predictions:\n",
      "{0.0: 103, 1.0: 17}\n",
      "85.83333333333333\n"
     ]
    }
   ],
   "source": [
    "reconstructions = model.predict(X_val_test)\n",
    "\n",
    "# Calculate reconstruction errors\n",
    "reconstruction_errors = np.mean(np.square(reconstructions - X_val_test), axis=(1, 2, 3))\n",
    "\n",
    "# Set a threshold for anomaly detection (you can adjust this threshold based on your application)\n",
    "\n",
    "\n",
    "# Predict anomalies based on the threshold\n",
    "anomaly_mask = reconstruction_errors > threshold\n",
    "anomaly_predictions = np.asarray(anomaly_mask).astype(float)\n",
    "\n",
    "# Display the results\n",
    "print(\"Anomaly Predictions:\")\n",
    "unique, counts = np.unique(anomaly_predictions, return_counts=True)\n",
    "counts_dict = dict(zip(unique, counts))\n",
    "print(counts_dict)\n",
    "print(counts[0]*100/sum(counts))\n",
    "\n",
    "y_val_test_p=(np.ones(counts[1]))\n",
    "y_val_test_n=(np.zeros(counts[0]))\n",
    "pred_y_val_test=np.concatenate((y_val_test_p,y_val_test_n), axis=0)\n"
   ]
  },
  {
   "cell_type": "code",
   "execution_count": 13,
   "id": "1465ea27",
   "metadata": {},
   "outputs": [
    {
     "name": "stdout",
     "output_type": "stream",
     "text": [
      "3/3 [==============================] - 0s 114ms/step\n",
      "Anomaly Predictions:\n",
      "{0.0: 75, 1.0: 5}\n",
      "93.75\n"
     ]
    }
   ],
   "source": [
    "reconstructions = model.predict(X_test_p)\n",
    "\n",
    "# Calculate reconstruction errors\n",
    "reconstruction_errors = np.mean(np.square(reconstructions - X_test_p), axis=(1, 2, 3))\n",
    "\n",
    "# Set a threshold for anomaly detection (you can adjust this threshold based on your application)\n",
    "\n",
    "\n",
    "# Predict anomalies based on the threshold\n",
    "anomaly_mask = reconstruction_errors > threshold\n",
    "anomaly_predictions = np.asarray(anomaly_mask).astype(float)\n",
    "\n",
    "# Display the results\n",
    "print(\"Anomaly Predictions:\")\n",
    "unique, counts = np.unique(anomaly_predictions, return_counts=True)\n",
    "counts_dict = dict(zip(unique, counts))\n",
    "print(counts_dict)\n",
    "y_test1_p=(np.ones(counts[1]))\n",
    "y_test1_n=(np.zeros(counts[0]))\n",
    "pred_y_test1=np.concatenate((y_test1_p,y_test1_n), axis=0)\n",
    "\n",
    "print(counts[0]*100/sum(counts))"
   ]
  },
  {
   "cell_type": "code",
   "execution_count": 16,
   "id": "83ac1ed9",
   "metadata": {},
   "outputs": [],
   "source": [
    "pos=np.zeros(499)\n",
    "neg=np.ones(71)\n",
    "actual_y= np.concatenate((pos,neg), axis=0)\n",
    "pred_y=np.concatenate((pred_y_train, pred_y_val_test,pred_y_test1, pred_y_test), axis=0)"
   ]
  },
  {
   "cell_type": "code",
   "execution_count": 17,
   "id": "f1878d5f",
   "metadata": {},
   "outputs": [
    {
     "name": "stdout",
     "output_type": "stream",
     "text": [
      "Precision: 0.5491803278688525\n",
      "Recall: 0.9436619718309859\n",
      "F1 Score: 0.694300518134715\n"
     ]
    }
   ],
   "source": [
    "from sklearn.metrics import precision_score, recall_score, f1_score\n",
    "\n",
    "precision = precision_score(actual_y, pred_y)\n",
    "recall = recall_score(actual_y, pred_y)\n",
    "f1 = f1_score(actual_y, pred_y)\n",
    "\n",
    "print(\"Precision:\", precision)\n",
    "print(\"Recall:\", recall)\n",
    "print(\"F1 Score:\", f1)"
   ]
  },
  {
   "cell_type": "code",
   "execution_count": 18,
   "id": "58f98ec5",
   "metadata": {},
   "outputs": [],
   "source": [
    "def pred(sample,threshold):\n",
    "    reconstruction = model.predict(np.expand_dims(sample, axis=0))\n",
    "    reconstruction_error = np.mean(np.square(reconstruction - sample))\n",
    "    is_anomaly = reconstruction_error > threshold\n",
    "    if is_anomaly:\n",
    "        return True\n",
    "    else:\n",
    "        return False"
   ]
  },
  {
   "cell_type": "code",
   "execution_count": null,
   "id": "525e63bf",
   "metadata": {},
   "outputs": [],
   "source": []
  },
  {
   "cell_type": "markdown",
   "id": "3c39c26f",
   "metadata": {},
   "source": [
    "# "
   ]
  },
  {
   "cell_type": "code",
   "execution_count": 19,
   "id": "bbe121c9",
   "metadata": {},
   "outputs": [
    {
     "name": "stdout",
     "output_type": "stream",
     "text": [
      "3/3 [==============================] - 0s 89ms/step\n"
     ]
    },
    {
     "data": {
      "image/png": "[encoded data removed]",
      "text/plain": [
       "<Figure size 640x480 with 1 Axes>"
      ]
     },
     "metadata": {},
     "output_type": "display_data"
    }
   ],
   "source": [
    "import matplotlib.pyplot as plt\n",
    "reconstructions = model.predict( X_test_n)\n",
    "reconstruction_errors = np.mean(np.square(reconstructions - X_test_n), axis=(1, 2, 3))\n",
    "\n",
    "plt.plot(reconstruction_errors, label='Reconstruction Errors')\n",
    "plt.axhline(y=threshold, color='r', linestyle='--', label='Threshold')\n",
    "plt.xlabel('Example Index')\n",
    "plt.ylabel('Reconstruction Error')\n",
    "plt.legend()\n",
    "plt.title('Reconstruction Error Plot')\n",
    "plt.show()\n"
   ]
  },
  {
   "cell_type": "code",
   "execution_count": 20,
   "id": "c874fa61",
   "metadata": {},
   "outputs": [
    {
     "data": {
      "image/png": "[encoded data removed]",
      "text/plain": [
       "<Figure size 640x480 with 1 Axes>"
      ]
     },
     "metadata": {},
     "output_type": "display_data"
    }
   ],
   "source": [
    "import matplotlib.pyplot as plt\n",
    "\n",
    "# Plot training loss\n",
    "plt.plot(history.history['loss'], label='Training Loss')\n",
    "# Plot validation loss if applicable\n",
    "if 'val_loss' in history.history:\n",
    "    plt.plot(history.history['val_loss'], label='Validation Loss')\n",
    "\n",
    "plt.xlabel('Epoch')\n",
    "plt.ylabel('Loss')\n",
    "plt.legend()\n",
    "plt.title('Training and Validation Loss Over Epochs')\n",
    "plt.show()\n"
   ]
  },
  {
   "cell_type": "code",
   "execution_count": null,
   "id": "83d0aa0c",
   "metadata": {},
   "outputs": [],
   "source": []
  },
  {
   "cell_type": "code",
   "execution_count": null,
   "id": "ff2eac48",
   "metadata": {},
   "outputs": [],
   "source": []
  },
  {
   "cell_type": "code",
   "execution_count": null,
   "id": "dbd3cd9f",
   "metadata": {},
   "outputs": [],
   "source": []
  },
  {
   "cell_type": "code",
   "execution_count": null,
   "id": "f1e052be",
   "metadata": {},
   "outputs": [],
   "source": []
  },
  {
   "cell_type": "code",
   "execution_count": null,
   "id": "2b9762ed",
   "metadata": {},
   "outputs": [],
   "source": []
  },
  {
   "cell_type": "code",
   "execution_count": null,
   "id": "f56dfae2",
   "metadata": {},
   "outputs": [],
   "source": []
  },
  {
   "cell_type": "code",
   "execution_count": null,
   "id": "93155086",
   "metadata": {},
   "outputs": [],
   "source": []
  },
  {
   "cell_type": "code",
   "execution_count": null,
   "id": "7ce8c35d",
   "metadata": {},
   "outputs": [],
   "source": []
  },
  {
   "cell_type": "code",
   "execution_count": null,
   "id": "743a7789",
   "metadata": {},
   "outputs": [],
   "source": []
  },
  {
   "cell_type": "code",
   "execution_count": null,
   "id": "2730be92",
   "metadata": {},
   "outputs": [],
   "source": []
  },
  {
   "cell_type": "code",
   "execution_count": null,
   "id": "14386b4e",
   "metadata": {},
   "outputs": [],
   "source": []
  },
  {
   "cell_type": "code",
   "execution_count": null,
   "id": "539ad84e",
   "metadata": {},
   "outputs": [],
   "source": []
  },
  {
   "cell_type": "code",
   "execution_count": null,
   "id": "71b10c89",
   "metadata": {},
   "outputs": [],
   "source": []
  },
  {
   "cell_type": "code",
   "execution_count": null,
   "id": "6b184949",
   "metadata": {},
   "outputs": [],
   "source": []
  },
  {
   "cell_type": "code",
   "execution_count": null,
   "id": "b84c34f8",
   "metadata": {},
   "outputs": [],
   "source": []
  },
  {
   "cell_type": "code",
   "execution_count": null,
   "id": "ef226db4",
   "metadata": {},
   "outputs": [],
   "source": []
  },
  {
   "cell_type": "code",
   "execution_count": null,
   "id": "0820da6b",
   "metadata": {},
   "outputs": [],
   "source": []
  },
  {
   "cell_type": "code",
   "execution_count": null,
   "id": "015a8d95",
   "metadata": {},
   "outputs": [],
   "source": []
  },
  {
   "cell_type": "code",
   "execution_count": null,
   "id": "07417e34",
   "metadata": {},
   "outputs": [],
   "source": []
  },
  {
   "cell_type": "code",
   "execution_count": null,
   "id": "0486e740",
   "metadata": {},
   "outputs": [],
   "source": []
  },
  {
   "cell_type": "code",
   "execution_count": null,
   "id": "578ef8b2",
   "metadata": {},
   "outputs": [],
   "source": []
  },
  {
   "cell_type": "code",
   "execution_count": null,
   "id": "d2dc3b81",
   "metadata": {},
   "outputs": [],
   "source": []
  },
  {
   "cell_type": "code",
   "execution_count": null,
   "id": "2900eab1",
   "metadata": {},
   "outputs": [],
   "source": []
  },
  {
   "cell_type": "code",
   "execution_count": null,
   "id": "53cbf514",
   "metadata": {},
   "outputs": [],
   "source": []
  },
  {
   "cell_type": "code",
   "execution_count": null,
   "id": "b4a938ef",
   "metadata": {},
   "outputs": [],
   "source": []
  },
  {
   "cell_type": "code",
   "execution_count": null,
   "id": "c8680176",
   "metadata": {},
   "outputs": [],
   "source": []
  },
  {
   "cell_type": "code",
   "execution_count": null,
   "id": "ea993e3a",
   "metadata": {},
   "outputs": [],
   "source": []
  },
  {
   "cell_type": "code",
   "execution_count": null,
   "id": "adf9a0eb",
   "metadata": {},
   "outputs": [],
   "source": []
  },
  {
   "cell_type": "code",
   "execution_count": null,
   "id": "0eba054e",
   "metadata": {},
   "outputs": [],
   "source": []
  },
  {
   "cell_type": "code",
   "execution_count": null,
   "id": "255e1edf",
   "metadata": {},
   "outputs": [],
   "source": []
  },
  {
   "cell_type": "code",
   "execution_count": null,
   "id": "97c4e937",
   "metadata": {},
   "outputs": [],
   "source": []
  },
  {
   "cell_type": "code",
   "execution_count": null,
   "id": "737fe8fb",
   "metadata": {},
   "outputs": [],
   "source": []
  },
  {
   "cell_type": "code",
   "execution_count": null,
   "id": "6a855e3b",
   "metadata": {},
   "outputs": [],
   "source": []
  },
  {
   "cell_type": "code",
   "execution_count": null,
   "id": "38567ada",
   "metadata": {},
   "outputs": [],
   "source": []
  },
  {
   "cell_type": "code",
   "execution_count": null,
   "id": "3931287e",
   "metadata": {},
   "outputs": [],
   "source": []
  },
  {
   "cell_type": "code",
   "execution_count": null,
   "id": "e9bc8755",
   "metadata": {},
   "outputs": [],
   "source": []
  },
  {
   "cell_type": "code",
   "execution_count": null,
   "id": "738bf315",
   "metadata": {},
   "outputs": [],
   "source": []
  },
  {
   "cell_type": "code",
   "execution_count": null,
   "id": "2fd241f1",
   "metadata": {},
   "outputs": [],
   "source": []
  },
  {
   "cell_type": "code",
   "execution_count": null,
   "id": "63228d42",
   "metadata": {},
   "outputs": [],
   "source": []
  },
  {
   "cell_type": "code",
   "execution_count": null,
   "id": "2a99c4cb",
   "metadata": {},
   "outputs": [],
   "source": []
  },
  {
   "cell_type": "code",
   "execution_count": null,
   "id": "9cab7204",
   "metadata": {},
   "outputs": [],
   "source": []
  },
  {
   "cell_type": "code",
   "execution_count": null,
   "id": "0c4d6d86",
   "metadata": {},
   "outputs": [],
   "source": []
  },
  {
   "cell_type": "code",
   "execution_count": null,
   "id": "1f881e29",
   "metadata": {},
   "outputs": [],
   "source": []
  },
  {
   "cell_type": "code",
   "execution_count": null,
   "id": "c294791e",
   "metadata": {},
   "outputs": [],
   "source": []
  },
  {
   "cell_type": "code",
   "execution_count": null,
   "id": "89149cd5",
   "metadata": {},
   "outputs": [],
   "source": []
  },
  {
   "cell_type": "code",
   "execution_count": null,
   "id": "19efcf85",
   "metadata": {},
   "outputs": [],
   "source": []
  },
  {
   "cell_type": "code",
   "execution_count": null,
   "id": "5854177e",
   "metadata": {},
   "outputs": [],
   "source": []
  },
  {
   "cell_type": "code",
   "execution_count": null,
   "id": "1d85e1b2",
   "metadata": {},
   "outputs": [],
   "source": []
  }
 ],
 "metadata": {
  "kernelspec": {
   "display_name": "Python 3 (ipykernel)",
   "language": "python",
   "name": "python3"
  },
  "language_info": {
   "codemirror_mode": {
    "name": "ipython",
    "version": 3
   },
   "file_extension": ".py",
   "mimetype": "text/x-python",
   "name": "python",
   "nbconvert_exporter": "python",
   "pygments_lexer": "ipython3",
   "version": "3.11.4"
  }
 },
 "nbformat": 4,
 "nbformat_minor": 5
}
